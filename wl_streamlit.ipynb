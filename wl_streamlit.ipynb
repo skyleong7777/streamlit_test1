{
 "cells": [
  {
   "cell_type": "code",
   "execution_count": 34,
   "id": "d225fdd5",
   "metadata": {},
   "outputs": [],
   "source": [
    "import streamlit as st\n",
    "import pandas as pd\n",
    "import numpy as np\n",
    "import base64  \n",
    "from fbprophet import Prophet\n",
    "from fbprophet.diagnostics import performance_metrics\n",
    "from fbprophet.diagnostics import cross_validation\n",
    "from fbprophet.plot import plot_cross_validation_metric\n",
    "\n",
    "#1 title & import CSV\n",
    "st.title('Time Series Forecasting Win loss')\n",
    "st.write(\"Import the time series CSV file\") \n",
    "data = st.file_uploader('Upload here',type='csv')\n",
    "\n",
    "#2 check the data is none or not\n",
    "if data is not None:\n",
    "    appdata = pd.read_csv(data)  #read the data fro\n",
    "    appdata['ds'] = pd.to_datetime(appdata['ds'],errors='coerce') \n",
    "    st.write(data) #display the data  \n",
    "    max_date = appdata['ds'].max() #compute latest date in the data \n",
    "\n",
    "#3 prediction date\n",
    "st.write(\"SELECT FORECAST PERIOD\") #text displayed\n",
    "periods_input = st.number_input('How many days forecast do you want?',min_value = 1, max_value = 365)\n",
    "#The minimum number of days a user can select is one, while the maximum is  #365 (yearly forecast) \n",
    "\n",
    "#4 check the not none then fit data\n",
    "if data is not None:\n",
    "    obj = Prophet() #Instantiate Prophet object\n",
    "    obj.fit(appdata)  #fit the data \n",
    "\n",
    "#5text to be displayed\n",
    "st.write(\"VISUALIZE FORECASTED DATA\")  \n",
    "st.write(\"The following plot shows future predicted values. 'yhat' is the  predicted value; upper and lower limits are 80% confidence intervals by  default\")\n",
    "\n",
    "#6 future date for prediction\n",
    "if data is not None:\n",
    "    future = obj.make_future_dataframe(periods=periods_input)\n",
    "#Prophet.make_future_dataframe() takes the Prophet model object and   \n",
    "#extends the time series dataframe for specified period for which user needs #the forecast\n",
    "    fcst = obj.predict(future)  #make prediction for the extended data\n",
    "    forecast = fcst[['ds', 'yhat', 'yhat_lower', 'yhat_upper']]\n",
    "#The predict() method assigns each row in the ‘future’ dataframe a predicted #value denoted as yhat\n",
    "#Choose only the forecasted records (having date after the latest date in #original data)\n",
    "    forecast_filtered =  forecast[forecast['ds'] > max_date]    \n",
    "    st.write(forecast_filtered)  #Display some forecasted records\n",
    "    st.write(\"The next visual shows the actual (black dots) and predicted (blue line) values over time.\") \n",
    "    figure1 = obj.plot(fcst) #plot the actual and predicted values\n",
    "    st.write(figure1)  #display the plot\n",
    "    st.write(\"The following plots show a high level trend of predicted values\")\n",
    "    figure2 = obj.plot_components(fcst) \n",
    "    st.write(figure2) "
   ]
  },
  {
   "cell_type": "code",
   "execution_count": null,
   "id": "d841a58c",
   "metadata": {},
   "outputs": [],
   "source": []
  },
  {
   "cell_type": "code",
   "execution_count": null,
   "id": "76d6483f",
   "metadata": {},
   "outputs": [],
   "source": []
  }
 ],
 "metadata": {
  "kernelspec": {
   "display_name": "Python 3 (ipykernel)",
   "language": "python",
   "name": "python3"
  },
  "language_info": {
   "codemirror_mode": {
    "name": "ipython",
    "version": 3
   },
   "file_extension": ".py",
   "mimetype": "text/x-python",
   "name": "python",
   "nbconvert_exporter": "python",
   "pygments_lexer": "ipython3",
   "version": "3.8.11"
  }
 },
 "nbformat": 4,
 "nbformat_minor": 5
}
